{
 "cells": [
  {
   "cell_type": "code",
   "execution_count": 1,
   "metadata": {},
   "outputs": [],
   "source": [
    "import gmpy2 \n",
    "import math\n",
    "from random import randint\n",
    "from math import gcd\n",
    "import numpy as np\n",
    "import libnum\n",
    "import cv2\n",
    "from PIL import Image\n",
    "import timeit\n",
    "rs = gmpy2.random_state()"
   ]
  },
  {
   "cell_type": "code",
   "execution_count": 27,
   "metadata": {},
   "outputs": [],
   "source": [
    "class Paillier(object):\n",
    "    \n",
    " \n",
    "    def __init__(self):\n",
    "        \n",
    "        self.publicKey = None\n",
    "        self.privateKey = None        \n",
    "        \n",
    "    def lcm(self, x, y):\n",
    "        \n",
    "        return x * y // gcd(x, y) \n",
    "    \n",
    "    def sTn(self,m):\n",
    "        \n",
    "        arr = bytes(m, 'utf-8')\n",
    "        m = int.from_bytes(arr, 'big')\n",
    "        return m\n",
    "    \n",
    "         \n",
    "    def ifprime(self, num):\n",
    "        for i in range(2, (num//2 +1)):\n",
    "            if (num%i) == 0:\n",
    "                return False\n",
    "            else:\n",
    "                return True\n",
    "     \n",
    "    def getP(self):\n",
    "        \n",
    "        p = gmpy2.mpz_urandomb(rs, 5024)\n",
    "        \n",
    "        while not gmpy2.is_prime(p):\n",
    "            p = p + 1\n",
    "        return p\n",
    "    \n",
    "    def getKeys(self):\n",
    "        \n",
    "        p = self.getP()\n",
    "        q = self.getP() \n",
    "        \n",
    "        n = p * q\n",
    "        lamda = self.lcm(p-1, q-1)\n",
    "        \n",
    "        g = n + 1\n",
    "        \n",
    "        mu = (pow(g,lamda,n*n)-1) // n\n",
    "        mu = libnum.invmod(mu, n)\n",
    "        \n",
    "        n = int(n)\n",
    "        g = int(g)\n",
    "        lamda = int(lamda)\n",
    "        mu = int(mu)\n",
    "        \n",
    "        self.publicKey = [n, g]\n",
    "        self.privateKey = [lamda, mu]\n",
    "        \n",
    "    \n",
    "    def encrypt(self, m):\n",
    "        \n",
    "        if isinstance(m, str):\n",
    "            m = self.sTn(m)\n",
    "        \n",
    "        #print(m)\n",
    "        \n",
    "        n,g = self.publicKey\n",
    "        r = randint(0,n)\n",
    "        while gcd(n, r)!= 1:\n",
    "            r = r + 1\n",
    "        \n",
    "        c = (pow(g, m, n*n) * pow(r, n, n*n)) % (n*n)\n",
    "        \n",
    "        # print(c)\n",
    "        return c\n",
    "    \n",
    "    def decrypt(self,c):\n",
    "        \n",
    "        n, g = self.publicKey\n",
    "        lamda, mu = self.privateKey\n",
    "        \n",
    "        c = (pow(c,lamda, n*n) - 1) // n * mu\n",
    "        c = c % n\n",
    "        c = int (c)\n",
    "        # print(c)\n",
    "\n",
    "        m = libnum.n2s(c)\n",
    "        m = m.decode('utf-8') \n",
    "        \n",
    "        return m\n",
    "\n",
    "        \n"
   ]
  },
  {
   "cell_type": "code",
   "execution_count": 28,
   "metadata": {},
   "outputs": [
    {
     "data": {
      "text/plain": [
       "'Problem Cryptography is a crucial instrument to protect information that is communicated using computers. Cryptography is an artistic transformation of data into an unreadable format so that only the intended recipient can understand and use it. Hence, generally speaking, cryptography is all about protecting and safeguarding information from cybercriminals or anyone else other than the intended recipient.'"
      ]
     },
     "execution_count": 28,
     "metadata": {},
     "output_type": "execute_result"
    }
   ],
   "source": [
    "### 400k\n",
    "f1 = open('plaintext1.txt','r')\n",
    "f1 = f1.read()\n",
    "f1"
   ]
  },
  {
   "cell_type": "code",
   "execution_count": 29,
   "metadata": {},
   "outputs": [
    {
     "name": "stdout",
     "output_type": "stream",
     "text": [
      "Time for key generation:  95.0259480000002 s\n",
      "Time for encoding:  9.247372199999973 s\n",
      "Time for decoding:  10.174644600000192 s\n",
      "Plaintext: Problem Cryptography is a crucial instrument to protect information that is communicated using computers. Cryptography is an artistic transformation of data into an unreadable format so that only the intended recipient can understand and use it. Hence, generally speaking, cryptography is all about protecting and safeguarding information from cybercriminals or anyone else other than the intended recipient.\n",
      "Deciphertext:  Problem Cryptography is a crucial instrument to protect information that is communicated using computers. Cryptography is an artistic transformation of data into an unreadable format so that only the intended recipient can understand and use it. Hence, generally speaking, cryptography is all about protecting and safeguarding information from cybercriminals or anyone else other than the intended recipient.\n"
     ]
    }
   ],
   "source": [
    "if __name__ == \"__main__\":    \n",
    "    string = f1\n",
    "    \n",
    "    start = timeit.default_timer()   \n",
    "    \n",
    "    p = Paillier()\n",
    "    p.getKeys()\n",
    "    \n",
    "    stop = timeit.default_timer()\n",
    "\n",
    "    print('Time for key generation: ', stop - start, 's') \n",
    "    \n",
    "    start = timeit.default_timer()     \n",
    "    c = p.encrypt(string)     \n",
    "    stop = timeit.default_timer()\n",
    "\n",
    "    print('Time for encoding: ', stop - start, 's') \n",
    "    \n",
    "    start = timeit.default_timer() \n",
    "    m = p.decrypt(c)\n",
    "    stop = timeit.default_timer()\n",
    "\n",
    "    print('Time for decoding: ', stop - start, 's') \n",
    "    \n",
    "    print(\"Plaintext:\", f1)\n",
    "    print(\"Deciphertext: \", m)\n",
    "    \n"
   ]
  },
  {
   "cell_type": "code",
   "execution_count": 21,
   "metadata": {},
   "outputs": [
    {
     "name": "stdout",
     "output_type": "stream",
     "text": [
      "strings equal\n"
     ]
    }
   ],
   "source": [
    "### check if the decode string is the same as the original text\n",
    "if f1 == m:\n",
    "    print('strings equal')"
   ]
  },
  {
   "cell_type": "code",
   "execution_count": 24,
   "metadata": {},
   "outputs": [
    {
     "data": {
      "text/plain": [
       "'Cryptography enables people to communicate on the Internet, transferring crucial and confidential information securely. Therefore, cryptography permits users to use public or private media such as the internet to do online shopping and evade being victims of criminals and password sniffers. Cryptography, also known as cryptology, thus helps users and institutions to cipher and decipher hidden messages into codes, ciphers, and numbers so information can be transmitted safely.  The sole purpose of cryptography is to protect the information, email, credit card details, and other personal data transmitted across a public network. Since 1994, it has been known that RSA and elliptic curve cryptography (ECC) can be broken by universal quantum computers. One of the grand challenges in cryptographic research is the development of cryptographic primitives and protocols that withstand attacks even by quantum computers. As a newcomer who has just entered the field of computer security, the challenge that may be encountered during the implementation of this project is the robustness and feasibility of the algorithm. We hope to design a UI implementing algorithms with certain encryption strengths. Each member of the team will be responsible for implementing one or more of the encryption/decryption algorithms, and we will design and implement a UI to integrate these algorithms. Each algorithm will have an input and output, and the algorithm will have certain level of robustness, the system will be stable and be implemented with Python. Initial solution of UI designing is to use Pycharm+Pyqt5.'"
      ]
     },
     "execution_count": 24,
     "metadata": {},
     "output_type": "execute_result"
    }
   ],
   "source": [
    "## 1kb\n",
    "f2 = open('plaintext2.txt','r')\n",
    "f2 = f2.read()\n",
    "f2"
   ]
  },
  {
   "cell_type": "code",
   "execution_count": 25,
   "metadata": {},
   "outputs": [
    {
     "name": "stdout",
     "output_type": "stream",
     "text": [
      "Time for key generation:  587.8456065 s\n",
      "Time for encoding:  47.25235049999992 s\n",
      "Time for decoding:  36.05676119999998 s\n",
      "Plaintext: Cryptography enables people to communicate on the Internet, transferring crucial and confidential information securely. Therefore, cryptography permits users to use public or private media such as the internet to do online shopping and evade being victims of criminals and password sniffers. Cryptography, also known as cryptology, thus helps users and institutions to cipher and decipher hidden messages into codes, ciphers, and numbers so information can be transmitted safely.  The sole purpose of cryptography is to protect the information, email, credit card details, and other personal data transmitted across a public network. Since 1994, it has been known that RSA and elliptic curve cryptography (ECC) can be broken by universal quantum computers. One of the grand challenges in cryptographic research is the development of cryptographic primitives and protocols that withstand attacks even by quantum computers. As a newcomer who has just entered the field of computer security, the challenge that may be encountered during the implementation of this project is the robustness and feasibility of the algorithm. We hope to design a UI implementing algorithms with certain encryption strengths. Each member of the team will be responsible for implementing one or more of the encryption/decryption algorithms, and we will design and implement a UI to integrate these algorithms. Each algorithm will have an input and output, and the algorithm will have certain level of robustness, the system will be stable and be implemented with Python. Initial solution of UI designing is to use Pycharm+Pyqt5.\n",
      "Deciphertext:  Cryptography enables people to communicate on the Internet, transferring crucial and confidential information securely. Therefore, cryptography permits users to use public or private media such as the internet to do online shopping and evade being victims of criminals and password sniffers. Cryptography, also known as cryptology, thus helps users and institutions to cipher and decipher hidden messages into codes, ciphers, and numbers so information can be transmitted safely.  The sole purpose of cryptography is to protect the information, email, credit card details, and other personal data transmitted across a public network. Since 1994, it has been known that RSA and elliptic curve cryptography (ECC) can be broken by universal quantum computers. One of the grand challenges in cryptographic research is the development of cryptographic primitives and protocols that withstand attacks even by quantum computers. As a newcomer who has just entered the field of computer security, the challenge that may be encountered during the implementation of this project is the robustness and feasibility of the algorithm. We hope to design a UI implementing algorithms with certain encryption strengths. Each member of the team will be responsible for implementing one or more of the encryption/decryption algorithms, and we will design and implement a UI to integrate these algorithms. Each algorithm will have an input and output, and the algorithm will have certain level of robustness, the system will be stable and be implemented with Python. Initial solution of UI designing is to use Pycharm+Pyqt5.\n"
     ]
    }
   ],
   "source": [
    "if __name__ == \"__main__\":    \n",
    "    string = f2\n",
    "    \n",
    "    start = timeit.default_timer()   \n",
    "    \n",
    "    p = Paillier()\n",
    "    p.getKeys()\n",
    "    \n",
    "    stop = timeit.default_timer()\n",
    "\n",
    "    print('Time for key generation: ', stop - start, 's') \n",
    "    \n",
    "    start = timeit.default_timer()     \n",
    "    c = p.encrypt(string)     \n",
    "    stop = timeit.default_timer()\n",
    "\n",
    "    print('Time for encoding: ', stop - start, 's') \n",
    "    \n",
    "    start = timeit.default_timer() \n",
    "    m = p.decrypt(c)\n",
    "    stop = timeit.default_timer()\n",
    "\n",
    "    print('Time for decoding: ', stop - start, 's') \n",
    "    \n",
    "    print('Plaintext:', f2)\n",
    "    print('Deciphertext: ', m)\n",
    "    "
   ]
  },
  {
   "cell_type": "code",
   "execution_count": 26,
   "metadata": {},
   "outputs": [
    {
     "name": "stdout",
     "output_type": "stream",
     "text": [
      "strings equal\n"
     ]
    }
   ],
   "source": [
    "### check if the decode string is the same as the original text\n",
    "if f2 == m:\n",
    "    print('strings equal')"
   ]
  }
 ],
 "metadata": {
  "kernelspec": {
   "display_name": "Python 3",
   "language": "python",
   "name": "python3"
  },
  "language_info": {
   "codemirror_mode": {
    "name": "ipython",
    "version": 3
   },
   "file_extension": ".py",
   "mimetype": "text/x-python",
   "name": "python",
   "nbconvert_exporter": "python",
   "pygments_lexer": "ipython3",
   "version": "3.7.3"
  }
 },
 "nbformat": 4,
 "nbformat_minor": 2
}