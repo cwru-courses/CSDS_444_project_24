{
 "cells": [
  {
   "cell_type": "code",
   "execution_count": 3,
   "metadata": {},
   "outputs": [],
   "source": [
    "import cv2\n",
    "import numpy as np\n",
    "import gmpy2 \n",
    "import math\n",
    "from random import randint\n",
    "from math import gcd\n",
    "import libnum\n",
    "from PIL import Image\n",
    "import timeit\n",
    "rs = gmpy2.random_state()\n"
   ]
  },
  {
   "cell_type": "code",
   "execution_count": 4,
   "metadata": {},
   "outputs": [],
   "source": [
    "### read the .mp4 file and save it as np.array type\n",
    "### 380 296\n",
    "cap = cv2.VideoCapture('video1.mp4')\n",
    "frameCount = int(cap.get(cv2.CAP_PROP_FRAME_COUNT))\n",
    "frameWidth = int(cap.get(cv2.CAP_PROP_FRAME_WIDTH))\n",
    "frameHeight = int(cap.get(cv2.CAP_PROP_FRAME_HEIGHT))\n",
    "\n",
    "array_o = np.empty((frameCount, frameHeight, frameWidth, 3), np.dtype('uint8'))\n",
    "\n",
    "num = 0\n",
    "ret = True\n",
    "fps = 10\n",
    "\n",
    "while (num < frameCount  and ret):\n",
    "    ret, array_o[num] = cap.read()\n",
    "    num += 1"
   ]
  },
  {
   "cell_type": "code",
   "execution_count": 5,
   "metadata": {},
   "outputs": [],
   "source": [
    "### paillier method\n",
    "class Paillier(object):\n",
    "    \n",
    " \n",
    "    def __init__(self):\n",
    "        \n",
    "        self.publicKey = None\n",
    "        self.privateKey = None\n",
    "        \n",
    "    def lcm(self, x, y):\n",
    "        \n",
    "        return x * y // gcd(x, y) \n",
    "    \n",
    "    def sTn(self,m):\n",
    "        arr = bytes(m, 'utf-8')\n",
    "        m = int.from_bytes(arr, 'big')\n",
    "        return m\n",
    "          \n",
    "     \n",
    "    def getP(self):\n",
    "        \n",
    "        p = gmpy2.mpz_urandomb(rs, 1024)\n",
    "        while not gmpy2.is_prime(p):\n",
    "            p = p + 1\n",
    "        return p\n",
    "    \n",
    "    def getKeys(self):\n",
    "     \n",
    "        #p = self.getP()\n",
    "        #q = self.getP()\n",
    "        \n",
    "        p = 23\n",
    "        q = 19\n",
    "        \n",
    "        n = p * q\n",
    "        lamda = self.lcm(p-1, q-1)\n",
    "        \n",
    "        \n",
    "        g = n + 1\n",
    "        mu = (pow(g,lamda,n*n)-1) // n\n",
    "        mu = libnum.invmod(mu, n)\n",
    "        \n",
    "        #mu = gmpy2.invert(lamda, n)\n",
    "        \n",
    "        n = int(n)\n",
    "        g = int(g)\n",
    "        lamda = int(lamda)\n",
    "        mu = int(mu)\n",
    "              \n",
    "        self.publicKey = [n, g]\n",
    "        self.privateKey = [lamda, mu]\n",
    "    \n",
    "    def encrypt(self, m):\n",
    "        \n",
    "        if isinstance(m, str):\n",
    "            m = self.sTn(m)\n",
    "        \n",
    "        #print(m)\n",
    "        \n",
    "        n,g = self.publicKey\n",
    "        r = randint(0,n)\n",
    "        while gcd(n, r)!= 1:\n",
    "            r = r + 1\n",
    "        \n",
    "        c = (pow(g, m, n*n) * pow(r, n, n*n)) % (n*n)\n",
    "        \n",
    "        # print(c)\n",
    "        return c\n",
    "    \n",
    "    def decrypt(self,c):\n",
    "        \n",
    "        n, g = self.publicKey\n",
    "        lamda, mu = self.privateKey\n",
    "        \n",
    "        c = (pow(c,lamda, n*n) - 1) // n * mu\n",
    "        c = c % n\n",
    "        c = int (c)\n",
    "        # print(c)\n",
    "        m = c\n",
    "        #m = libnum.n2s(c)\n",
    "        #m = m.decode(\"utf-8\") \n",
    "        return m"
   ]
  },
  {
   "cell_type": "code",
   "execution_count": 6,
   "metadata": {},
   "outputs": [
    {
     "name": "stdout",
     "output_type": "stream",
     "text": [
      "Time for encoding:  104.9053673 s\n"
     ]
    }
   ],
   "source": [
    "### generate keys\n",
    "p = Paillier()\n",
    "p.getKeys()\n",
    "\n",
    "### decode the array for the video\n",
    "start = timeit.default_timer()\n",
    "\n",
    "data_encrypted = [[[[p.encrypt(int(x)) for x in row] for row in mat]for mat in frame]for frame in array_o] \n",
    "\n",
    "stop = timeit.default_timer()\n",
    "\n",
    "print('Time for encoding: ', stop - start, 's') "
   ]
  },
  {
   "cell_type": "code",
   "execution_count": 7,
   "metadata": {},
   "outputs": [],
   "source": [
    "##### create video with encoded array\n",
    "fourcc = cv2.VideoWriter_fourcc(*'MP42') \n",
    "\n",
    "array_code = np.array(data_encrypted, dtype=np.uint8)\n",
    "video = cv2.VideoWriter('encode v1.mp4', fourcc, float(fps), (frameWidth, frameHeight))\n",
    "\n",
    "for count in range(frameCount):\n",
    "    img = array_code[count]\n",
    "    video.write(img)\n",
    "\n",
    "video.release()"
   ]
  },
  {
   "cell_type": "code",
   "execution_count": 8,
   "metadata": {},
   "outputs": [
    {
     "name": "stdout",
     "output_type": "stream",
     "text": [
      "Time for decoding:  44.63018630000002 s\n"
     ]
    }
   ],
   "source": [
    "#### decode array\n",
    "start = timeit.default_timer()\n",
    "\n",
    "data_decrypted = [[[[p.decrypt(x) for x in row] for row in mat]for mat in frame ]for frame in data_encrypted]\n",
    "\n",
    "stop = timeit.default_timer()\n",
    "\n",
    "print('Time for decoding: ', stop - start, 's') "
   ]
  },
  {
   "cell_type": "code",
   "execution_count": 9,
   "metadata": {},
   "outputs": [],
   "source": [
    "### create video with decoded array\n",
    "array_decode = np.array(data_decrypted, dtype=np.uint8)\n",
    "\n",
    "video = cv2.VideoWriter('decode v1.mp4', fourcc, float(fps), (frameWidth, frameHeight))\n",
    "for count in range(frameCount):\n",
    "    img = array_decode[count]\n",
    "    video.write(img)\n",
    "\n",
    "video.release()"
   ]
  },
  {
   "cell_type": "code",
   "execution_count": 13,
   "metadata": {},
   "outputs": [],
   "source": [
    "### read the .mp4 file and save it as np.array type\n",
    "### 720 720\n",
    "cap = cv2.VideoCapture('video2.mp4')\n",
    "frameCount = int(cap.get(cv2.CAP_PROP_FRAME_COUNT))\n",
    "frameWidth = int(cap.get(cv2.CAP_PROP_FRAME_WIDTH))\n",
    "frameHeight = int(cap.get(cv2.CAP_PROP_FRAME_HEIGHT))\n",
    "\n",
    "array_o = np.empty((frameCount, frameHeight, frameWidth, 3), np.dtype('uint8'))\n",
    "\n",
    "num = 0\n",
    "ret = True\n",
    "fps = 12\n",
    "\n",
    "while (num < frameCount  and ret):\n",
    "    ret, array_o[num] = cap.read()\n",
    "    num += 1"
   ]
  },
  {
   "cell_type": "code",
   "execution_count": 14,
   "metadata": {},
   "outputs": [
    {
     "name": "stdout",
     "output_type": "stream",
     "text": [
      "Time for encoding:  713.6603002000002 s\n",
      "Time for decoding:  326.9919525999999 s\n"
     ]
    }
   ],
   "source": [
    "### generate keys\n",
    "p = Paillier()\n",
    "p.getKeys()\n",
    "\n",
    "### decode the array for the video\n",
    "start = timeit.default_timer()\n",
    "\n",
    "data_encrypted = [[[[p.encrypt(int(x)) for x in row] for row in mat]for mat in frame]for frame in array_o] \n",
    "\n",
    "stop = timeit.default_timer()\n",
    "\n",
    "print('Time for encoding: ', stop - start, 's') \n",
    "\n",
    "#### decode array\n",
    "start = timeit.default_timer()\n",
    "\n",
    "data_decrypted = [[[[p.decrypt(x) for x in row] for row in mat]for mat in frame ]for frame in data_encrypted]\n",
    "\n",
    "stop = timeit.default_timer()\n",
    "\n",
    "print('Time for decoding: ', stop - start, 's') \n",
    "\n",
    "array_decode = np.array(data_decrypted, dtype=np.uint8)\n",
    "\n",
    "video = cv2.VideoWriter('decode v2.mp4', fourcc, float(fps), (frameWidth, frameHeight))\n",
    "for count in range(frameCount):\n",
    "    img = array_decode[count]\n",
    "    video.write(img)\n",
    "\n",
    "video.release()"
   ]
  }
 ],
 "metadata": {
  "kernelspec": {
   "display_name": "Python 3",
   "language": "python",
   "name": "python3"
  },
  "language_info": {
   "codemirror_mode": {
    "name": "ipython",
    "version": 3
   },
   "file_extension": ".py",
   "mimetype": "text/x-python",
   "name": "python",
   "nbconvert_exporter": "python",
   "pygments_lexer": "ipython3",
   "version": "3.7.3"
  }
 },
 "nbformat": 4,
 "nbformat_minor": 2
}
