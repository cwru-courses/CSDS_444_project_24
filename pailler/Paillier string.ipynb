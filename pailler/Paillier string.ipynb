{
 "cells": [
  {
   "cell_type": "code",
   "execution_count": 22,
   "metadata": {},
   "outputs": [],
   "source": [
    "import gmpy2 \n",
    "import math\n",
    "from random import randint\n",
    "from math import gcd\n",
    "import numpy as np\n",
    "import libnum\n",
    "import cv2\n",
    "from PIL import Image\n",
    "import timeit\n",
    "rs = gmpy2.random_state()"
   ]
  },
  {
   "cell_type": "code",
   "execution_count": 21,
   "metadata": {},
   "outputs": [],
   "source": [
    "class Paillier(object):\n",
    "    \n",
    " \n",
    "    def __init__(self):\n",
    "        \n",
    "        self.publicKey = None\n",
    "        self.privateKey = None        \n",
    "        \n",
    "    def lcm(self, x, y):\n",
    "        \n",
    "        return x * y // gcd(x, y) \n",
    "    \n",
    "    def sTn(self,m):\n",
    "        \n",
    "        arr = bytes(m, 'utf-8')\n",
    "        m = int.from_bytes(arr, 'big')\n",
    "        return m\n",
    "    \n",
    "         \n",
    "    def ifprime(self, num):\n",
    "        for i in range(2, (num//2 +1)):\n",
    "            if (num%i) == 0:\n",
    "                return False\n",
    "            else:\n",
    "                return True\n",
    "     \n",
    "    def getP(self):\n",
    "        \n",
    "        p = gmpy2.mpz_urandomb(rs, 3024)\n",
    "        \n",
    "        while not gmpy2.is_prime(p):\n",
    "            p = p + 1\n",
    "        return p\n",
    "    \n",
    "    def getKeys(self):\n",
    "        \n",
    "        p = self.getP()\n",
    "        q = self.getP() \n",
    "        \n",
    "        n = p * q\n",
    "        lamda = self.lcm(p-1, q-1)\n",
    "        \n",
    "        g = n + 1\n",
    "        \n",
    "        mu = (pow(g,lamda,n*n)-1) // n\n",
    "        mu = libnum.invmod(mu, n)\n",
    "        \n",
    "        n = int(n)\n",
    "        g = int(g)\n",
    "        lamda = int(lamda)\n",
    "        mu = int(mu)\n",
    "        \n",
    "        self.publicKey = [n, g]\n",
    "        self.privateKey = [lamda, mu]\n",
    "        \n",
    "    \n",
    "    def encrypt(self, m):\n",
    "        \n",
    "        if isinstance(m, str):\n",
    "            m = self.sTn(m)\n",
    "        \n",
    "        #print(m)\n",
    "        \n",
    "        n,g = self.publicKey\n",
    "        r = randint(0,n)\n",
    "        while gcd(n, r)!= 1:\n",
    "            r = r + 1\n",
    "        \n",
    "        c = (pow(g, m, n*n) * pow(r, n, n*n)) % (n*n)\n",
    "        \n",
    "        # print(c)\n",
    "        return c\n",
    "    \n",
    "    def decrypt(self,c):\n",
    "        \n",
    "        n, g = self.publicKey\n",
    "        lamda, mu = self.privateKey\n",
    "        \n",
    "        c = (pow(c,lamda, n*n) - 1) // n * mu\n",
    "        c = c % n\n",
    "        c = int (c)\n",
    "        # print(c)\n",
    "\n",
    "        m = libnum.n2s(c)\n",
    "        m = m.decode(\"utf-8\") \n",
    "        \n",
    "        return m\n",
    "\n",
    "        \n"
   ]
  },
  {
   "cell_type": "code",
   "execution_count": 24,
   "metadata": {},
   "outputs": [
    {
     "name": "stdout",
     "output_type": "stream",
     "text": [
      "Time for key generation:  8.52732930000002 s\n",
      "Time for encoding:  2.554594199999883 s\n",
      "Time for decoding:  2.023116200000004 s\n",
      "Plaintext: The public key can be known by everyone, and it is used for encrypting messages. The intention is that messages encrypted with the public key can only be decrypted in a reasonable amount of time by using the private key. The public key is represented by the integers n and e; and, the private key, by the integer d (although n is also used during the decryption process, so it might be considered to be a part of the private key, too). m represents the message (previously prepared with a certain technique explained below).\n",
      "Deciphertext:  The public key can be known by everyone, and it is used for encrypting messages. The intention is that messages encrypted with the public key can only be decrypted in a reasonable amount of time by using the private key. The public key is represented by the integers n and e; and, the private key, by the integer d (although n is also used during the decryption process, so it might be considered to be a part of the private key, too). m represents the message (previously prepared with a certain technique explained below).\n"
     ]
    }
   ],
   "source": [
    "if __name__ == \"__main__\":    \n",
    "    string = 'The public key can be known by everyone, and it is used for encrypting messages. The intention is that messages encrypted with the public key can only be decrypted in a reasonable amount of time by using the private key. The public key is represented by the integers n and e; and, the private key, by the integer d (although n is also used during the decryption process, so it might be considered to be a part of the private key, too). m represents the message (previously prepared with a certain technique explained below).'\n",
    "    byte = ''\n",
    "    text = string \n",
    "    \n",
    "    start = timeit.default_timer()   \n",
    "    \n",
    "    p = Paillier()\n",
    "    p.getKeys()\n",
    "    \n",
    "    stop = timeit.default_timer()\n",
    "\n",
    "    print('Time for key generation: ', stop - start, 's') \n",
    "    \n",
    "    start = timeit.default_timer()     \n",
    "    c = p.encrypt(string)     \n",
    "    stop = timeit.default_timer()\n",
    "\n",
    "    print('Time for encoding: ', stop - start, 's') \n",
    "    \n",
    "    start = timeit.default_timer() \n",
    "    m = p.decrypt(c)\n",
    "    stop = timeit.default_timer()\n",
    "\n",
    "    print('Time for decoding: ', stop - start, 's') \n",
    "    \n",
    "    print(\"Plaintext:\", text)\n",
    "    print(\"Deciphertext: \", m)\n",
    "    \n"
   ]
  },
  {
   "cell_type": "code",
   "execution_count": 31,
   "metadata": {},
   "outputs": [
    {
     "name": "stdout",
     "output_type": "stream",
     "text": [
      "strings equal\n"
     ]
    }
   ],
   "source": [
    "### check if the decode string is the same as the original text\n",
    "if text == m:\n",
    "    print('strings equal')"
   ]
  }
 ],
 "metadata": {
  "kernelspec": {
   "display_name": "Python 3",
   "language": "python",
   "name": "python3"
  },
  "language_info": {
   "codemirror_mode": {
    "name": "ipython",
    "version": 3
   },
   "file_extension": ".py",
   "mimetype": "text/x-python",
   "name": "python",
   "nbconvert_exporter": "python",
   "pygments_lexer": "ipython3",
   "version": "3.7.3"
  }
 },
 "nbformat": 4,
 "nbformat_minor": 2
}
